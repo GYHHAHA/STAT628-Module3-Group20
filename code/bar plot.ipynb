{
 "cells": [
  {
   "cell_type": "code",
   "execution_count": 1,
   "id": "ed0279fc",
   "metadata": {},
   "outputs": [],
   "source": [
    "import matplotlib.pyplot as plt\n",
    "import pandas as pd\n",
    "import math\n",
    "\n",
    "df = pd.read_pickle(\"review.pkl\")\n",
    "target = {\n",
    "    \"Sanity Check\": [\n",
    "        \"bad\", \"worst\", \"fresh\", \"ridiculous\", \"nice\",\n",
    "        \"yummy\", \"wonderful\", \"awful\",\n",
    "    ],\n",
    "    \"Dishes\": [\n",
    "        \"shrimp\", \"rib\", \"beef\",\n",
    "        \"peach\", \"chicken\", \"fish\", \"carne asada\", \"tortilla\",\n",
    "    ],\n",
    "    \"Sauce\": [\n",
    "        \"salsa\", \"guacamole\", \"chipotle\",\n",
    "        \"nacho cheese\", \"green sauce\", \n",
    "    ],\n",
    "    \"Terms Associated with Ambiance Matters\": [\n",
    "        \"not crowded\", \"warm\", \"not noisy\", \"tidy\", \"clean\",\n",
    "        \"atmosphere\", \"ambiance\",\n",
    "    ],\n",
    "    \"Service\": [\n",
    "        \"rude\", \"friendly\", \"helpful\", \"welcoming\"\n",
    "    ]\n",
    "}\n",
    "stars = pd.get_dummies(df.stars).reindex(range(1, 6), axis=1)\n",
    "xticks = [\"1\", \"2\", \"3\", \"4\", \"5\"]\n",
    "for k in target.keys():\n",
    "    k_val = target[k]\n",
    "    ncols = 3\n",
    "    nrows = math.ceil(len(k_val) / ncols)\n",
    "    fig, axs = plt.subplots(\n",
    "        nrows, ncols,\n",
    "        figsize=(4 * ncols, 3 * nrows),\n",
    "        sharey=True,\n",
    "    )\n",
    "    fig.suptitle(k, size=20)\n",
    "    for idx, name in enumerate(k_val):\n",
    "        i, j = idx // ncols, idx % ncols\n",
    "        tmp = stars[df.text.str.contains(name, regex=False)].sum(0)\n",
    "        axs[i][j].set_title(name)\n",
    "        axs[i][j].bar(x=xticks, height=tmp.values / stars.sum().values)\n",
    "        axs[i][j].set_xticks(xticks)\n",
    "        axs[i][j].set_ylim(0, 1)\n",
    "    for idx in range(len(k_val), (((len(k_val) - 1) // ncols + 1) * ncols)):\n",
    "        i, j = idx // ncols, idx % ncols\n",
    "        axs[i][j].remove()\n",
    "    fig.tight_layout()\n",
    "    plt.savefig(k+\".png\", dpi=100)\n",
    "    plt.close()\n"
   ]
  },
  {
   "cell_type": "code",
   "execution_count": null,
   "id": "19d9e57e",
   "metadata": {},
   "outputs": [],
   "source": []
  }
 ],
 "metadata": {
  "kernelspec": {
   "display_name": "Python 3 (ipykernel)",
   "language": "python",
   "name": "python3"
  },
  "language_info": {
   "codemirror_mode": {
    "name": "ipython",
    "version": 3
   },
   "file_extension": ".py",
   "mimetype": "text/x-python",
   "name": "python",
   "nbconvert_exporter": "python",
   "pygments_lexer": "ipython3",
   "version": "3.9.12"
  }
 },
 "nbformat": 4,
 "nbformat_minor": 5
}
